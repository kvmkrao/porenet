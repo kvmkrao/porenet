{
 "cells": [
  {
   "cell_type": "code",
   "execution_count": 1,
   "metadata": {},
   "outputs": [
    {
     "name": "stderr",
     "output_type": "stream",
     "text": [
      "------------------------------------------------------------\n",
      "CRITICAL   : front and back labels have been switched to obey the right-hand rule \n",
      "SOURCE     : openpnm.network.Cubic.__init__ \n",
      "TIME STAMP : 2021-10-26 11:35:49,232\n",
      "------------------------------------------------------------\n"
     ]
    },
    {
     "name": "stdout",
     "output_type": "stream",
     "text": [
      "1000\n",
      "2700\n",
      "――――――――――――――――――――――――――――――――――――――――――――――――――――――――――――――――――――――――――――――\n",
      "1     : pore.coords\n",
      "2     : throat.conns\n",
      "――――――――――――――――――――――――――――――――――――――――――――――――――――――――――――――――――――――――――――――\n",
      "[ 0  1  2  3  4  5  6  7  8  9 10 11 12 13 14 15 16 17 18 19 20 21 22 23\n",
      " 24 25 26 27 28 29 30 31 32 33 34 35 36 37 38 39 40 41 42 43 44 45 46 47\n",
      " 48 49 50 51 52 53 54 55 56 57 58 59 60 61 62 63 64 65 66 67 68 69 70 71\n",
      " 72 73 74 75 76 77 78 79 80 81 82 83 84 85 86 87 88 89 90 91 92 93 94 95\n",
      " 96 97 98 99]\n",
      "――――――――――――――――――――――――――――――――――――――――――――――――――――――――――――――――――――――――――――――\n",
      "1     : pore.all\n",
      "2     : pore.back\n",
      "3     : pore.bottom\n",
      "4     : pore.front\n",
      "5     : pore.geo_01\n",
      "6     : pore.internal\n",
      "7     : pore.left\n",
      "8     : pore.right\n",
      "9     : pore.surface\n",
      "10    : pore.top\n",
      "11    : throat.all\n",
      "12    : throat.geo_01\n",
      "13    : throat.internal\n",
      "14    : throat.surface\n",
      "――――――――――――――――――――――――――――――――――――――――――――――――――――――――――――――――――――――――――――――\n",
      "mean pore diameter 2.1188963377533042e-05\n",
      "min  pore diameter 2.082497672565059e-06\n",
      "max  pore diameter 7.978477214893001e-05\n",
      "mean throat diameter 1.867680880851219e-05\n",
      "min  throat diameter 2.082497672565059e-06\n",
      "max  throat diameter 7.978477214893001e-05\n",
      "――――――――――――――――――――――――――――――――――――――――――――――――――――――――――――――――――――――――――――――\n",
      "key                                 value\n",
      "――――――――――――――――――――――――――――――――――――――――――――――――――――――――――――――――――――――――――――――\n",
      "disconnected_clusters               []\n",
      "isolated_pores                      []\n",
      "trim_pores                          []\n",
      "duplicate_throats                   []\n",
      "bidirectional_throats               []\n",
      "headless_throats                    []\n",
      "looped_throats                      []\n",
      "――――――――――――――――――――――――――――――――――――――――――――――――――――――――――――――――――――――――――――――\n",
      "―――――――――――――――――――――――――――――――――――――――――――――――――――――――――――――――――――――――――――――――――――――\n",
      "#   Property Name                       Parameter                 Value\n",
      "―――――――――――――――――――――――――――――――――――――――――――――――――――――――――――――――――――――――――――――――――――――\n",
      "1   pore.seed                           model:                    random\n",
      "                                        element:                  pore\n",
      "                                        num_range:                [0.2, 0.7]\n",
      "                                        seed:                     None\n",
      "                                        regeneration mode:        normal\n",
      "―――――――――――――――――――――――――――――――――――――――――――――――――――――――――――――――――――――――――――――――――――――\n",
      "2   pore.max_size                       model:                    largest_sphere\n",
      "                                        iters:                    10\n",
      "                                        fixed_diameter:           pore.fixed_diameter\n",
      "                                        regeneration mode:        normal\n",
      "―――――――――――――――――――――――――――――――――――――――――――――――――――――――――――――――――――――――――――――――――――――\n",
      "3   pore.diameter                       model:                    normal\n",
      "                                        loc:                      20\n",
      "                                        scale:                    10\n",
      "                                        seeds:                    pore.seed\n",
      "                                        regeneration mode:        normal\n",
      "―――――――――――――――――――――――――――――――――――――――――――――――――――――――――――――――――――――――――――――――――――――\n",
      "4   pore.area                           model:                    sphere\n",
      "                                        pore_diameter:            pore.diameter\n",
      "                                        regeneration mode:        normal\n",
      "―――――――――――――――――――――――――――――――――――――――――――――――――――――――――――――――――――――――――――――――――――――\n",
      "5   pore.volume                         model:                    sphere\n",
      "                                        pore_diameter:            pore.diameter\n",
      "                                        regeneration mode:        normal\n",
      "―――――――――――――――――――――――――――――――――――――――――――――――――――――――――――――――――――――――――――――――――――――\n",
      "6   throat.max_size                     model:                    from_neighbor_pores\n",
      "                                        mode:                     min\n",
      "                                        prop:                     pore.diameter\n",
      "                                        ignore_nans:              True\n",
      "                                        regeneration mode:        normal\n",
      "―――――――――――――――――――――――――――――――――――――――――――――――――――――――――――――――――――――――――――――――――――――\n",
      "7   throat.diameter                     model:                    from_neighbor_pores\n",
      "                                        prop:                     pore.diameter\n",
      "                                        mode:                     min\n",
      "                                        ignore_nans:              True\n",
      "                                        regeneration mode:        normal\n",
      "―――――――――――――――――――――――――――――――――――――――――――――――――――――――――――――――――――――――――――――――――――――\n",
      "8   throat.endpoints                    model:                    spherical_pores\n",
      "                                        pore_diameter:            pore.diameter\n",
      "                                        throat_diameter:          throat.diameter\n",
      "                                        throat_centroid:          throat.centroid\n",
      "                                        regeneration mode:        normal\n",
      "―――――――――――――――――――――――――――――――――――――――――――――――――――――――――――――――――――――――――――――――――――――\n",
      "9   throat.length                       model:                    piecewise\n",
      "                                        throat_endpoints:         throat.endpoints\n",
      "                                        throat_centroid:          throat.centroid\n",
      "                                        regeneration mode:        normal\n",
      "―――――――――――――――――――――――――――――――――――――――――――――――――――――――――――――――――――――――――――――――――――――\n",
      "10  throat.surface_area                 model:                    cylinder\n",
      "                                        throat_diameter:          throat.diameter\n",
      "                                        throat_length:            throat.length\n",
      "                                        regeneration mode:        normal\n",
      "―――――――――――――――――――――――――――――――――――――――――――――――――――――――――――――――――――――――――――――――――――――\n",
      "11  throat.volume                       model:                    cylinder\n",
      "                                        throat_diameter:          throat.diameter\n",
      "                                        throat_length:            throat.length\n",
      "                                        regeneration mode:        normal\n",
      "―――――――――――――――――――――――――――――――――――――――――――――――――――――――――――――――――――――――――――――――――――――\n",
      "12  throat.area                         model:                    cylinder\n",
      "                                        throat_diameter:          throat.diameter\n",
      "                                        regeneration mode:        normal\n",
      "―――――――――――――――――――――――――――――――――――――――――――――――――――――――――――――――――――――――――――――――――――――\n",
      "13  throat.conduit_lengths              model:                    conduit_lengths\n",
      "                                        throat_endpoints:         throat.endpoints\n",
      "                                        throat_length:            throat.length\n",
      "                                        throat_centroid:          throat.centroid\n",
      "                                        regeneration mode:        normal\n",
      "―――――――――――――――――――――――――――――――――――――――――――――――――――――――――――――――――――――――――――――――――――――\n"
     ]
    },
    {
     "data": {
      "image/png": "[encoded data removed]",
      "text/plain": [
       "<Figure size 432x288 with 1 Axes>"
      ]
     },
     "metadata": {
      "needs_background": "light"
     },
     "output_type": "display_data"
    }
   ],
   "source": [
    "import openpnm as op\n",
    "import openpnm.models.geometry as gmods\n",
    "import matplotlib.pyplot as plt\n",
    "import scipy as sp\n",
    "import numpy as np\n",
    "from scipy.stats import lognorm\n",
    "from scipy.stats import norm\n",
    "\n",
    "# Define geometrical parameters\n",
    "Lc = 1e-4\n",
    "Nx, Ny, Nz = (10, 10, 10)\n",
    "Pin, Pout = (2000000, 1000000)\n",
    "# Generate network, geometry, phase, and physics\n",
    "#pn = op.network.Cubic(shape=[Nx, Ny, Nz], spacing=Lc,connectivity=26)\n",
    "#op.topotools.reduce_coordination(network=pn, z=5)\n",
    "\n",
    "pn = op.network.Cubic(shape=[Nx, Ny, Nz], spacing=Lc,connectivity=6)\n",
    "#Create a Geometry Object and Assign Geometric Properties to Pores and Throats\n",
    "#The Network pn does not contain any information about pore and throat sizes at this point. The next step is to create\n",
    "#a Geometry object to manage the geometrical properties.\n",
    "#geom = OpenPNM.Geometry.GenericGeometry(network=pn, pores=pn.Ps, throats=pn.Ts)\n",
    "\n",
    "\n",
    "# test case https://git.iws.uni-stuttgart.de/dumux-repositories/dumux/-/blob/master/examples/porenetwork_upscaling/README.md \n",
    "geo = op.geometry.StickAndBall(network=pn, pores=pn.Ps, throats=pn.Ts)\n",
    "\n",
    "npr = pn.num_pores()\n",
    "print(pn.num_pores())\n",
    "print(pn.num_throats())\n",
    "print(pn.props())\n",
    "print(pn.pores('left'))\n",
    "print(pn.labels())\n",
    "\n",
    "geo['pore.old_diameter'] = geo.pop('pore.diameter')\n",
    "#geo.add_model(propname='pore.diameter',\n",
    "#              model=gmods.pore_size.weibull,\n",
    "#              shape=0.5, loc=0, scale=1e-5)\n",
    "sd = 10\n",
    "mean = 20\n",
    "geo.add_model(propname='pore.diameter',\n",
    "              model=gmods.pore_size.normal,\n",
    "              loc=mean, scale=sd)\n",
    "              #loc=5e-5, scale=1e-5)\n",
    "\n",
    "#s = 0.954\n",
    "#x = np.linspace(lognorm.ppf(0.01, s),lognorm.ppf(0.99, s), npr)\n",
    "#mean, var, skew, kurt = 20, 10, 0, 0 #lognorm.stats(s, moments='mvsk')\n",
    "#geo['pore.diameter'] = lognorm.pdf(x, s)*0.0001\n",
    "#plt.plot(x, lognorm.pdf(x, s),'r-', lw=5, alpha=0.6, label='lognorm pdf')\n",
    "\n",
    "x = np.linspace(4, 100, npr)\n",
    "#y = norm.pdf(x, 20, 10)\n",
    "geo['pore.diameter'] = norm.pdf(x,20,5)*0.001\n",
    "plt.plot(x, geo['pore.diameter'],'r-', lw=5, alpha=0.6, label='norm pdf')\n",
    "plt.savefig('pore_diameter.png')\n",
    "\n",
    "for i in range(npr):\n",
    "    #print(geo['pore.diameter'][i])\n",
    "    if geo['pore.diameter'][i] < 2e-6: \n",
    "        geo['pore.diameter'][i] = geo['pore.diameter'].mean()\n",
    "\n",
    "geo.add_model(propname='throat.diameter',\n",
    "              model=op.models.misc.from_neighbor_pores,prop='pore.diameter',mode='min')\n",
    "\n",
    "#geo['throat.diameter'] = geo['throat.diameter']/2.0\n",
    "\n",
    "#geo.add_model(propname='throat.endpoints',\n",
    "#                model=op.models.geometry.throat_endpoints.spherical_pores)\n",
    "#geo.add_model(propname='throat.area',\n",
    "#                model=op.models.geometry.throat_cross_sectional_area.cylinder)\n",
    "#geo.add_model(propname='pore.area',\n",
    "#                model=op.models.geometry.pore_cross_sectional_area.sphere)\n",
    "#geo.add_model(propname='throat.conduit_lengths',\n",
    "#                model=op.models.geometry.throat_length.conduit_lengths)\n",
    "        \n",
    "#fig = plt.hist(geo['pore.diameter'], bins=15,density=True, edgecolor='k', alpha=0.5) \n",
    "print(\"mean pore diameter\", geo['pore.diameter'].mean()) \n",
    "print(\"min  pore diameter\", geo['pore.diameter'].min())\n",
    "print(\"max  pore diameter\", geo['pore.diameter'].max())\n",
    "\n",
    "print(\"mean throat diameter\", geo['throat.diameter'].mean()) \n",
    "print(\"min  throat diameter\", geo['throat.diameter'].min())\n",
    "print(\"max  throat diameter\", geo['throat.diameter'].max())\n",
    "\n",
    "\n",
    "#Hg = op.phases.Mercury(network=pn)\n",
    "#phys = op.physics.Standard(network=pn, phase=Hg, geometry=geo)\n",
    "\n",
    "# Create algorithm and run simulation\n",
    "#mip = op.algorithms.Porosimetry(network=pn)\n",
    "#mip.setup(phase=Hg)\n",
    "#mip.set_inlets(pores=pn.pores(['left', 'right']))\n",
    "#mip.run()\n",
    "print(pn.check_network_health())\n",
    "print(geo.models)"
   ]
  },
  {
   "cell_type": "code",
   "execution_count": 2,
   "metadata": {},
   "outputs": [
    {
     "name": "stdout",
     "output_type": "stream",
     "text": [
      "――――――――――――――――――――――――――――――――――――――――――――――――――――――――――――――――――――――――――――――\n",
      "openpnm.phases.Water : phase_01\n",
      "――――――――――――――――――――――――――――――――――――――――――――――――――――――――――――――――――――――――――――――\n",
      "#     Properties                                    Valid Values\n",
      "――――――――――――――――――――――――――――――――――――――――――――――――――――――――――――――――――――――――――――――\n",
      "1     pore.contact_angle                             1000 / 1000 \n",
      "2     pore.critical_pressure                         1000 / 1000 \n",
      "3     pore.critical_temperature                      1000 / 1000 \n",
      "4     pore.critical_volume                           1000 / 1000 \n",
      "5     pore.density                                   1000 / 1000 \n",
      "6     pore.diffusivity                               1000 / 1000 \n",
      "7     pore.electrical_conductivity                   1000 / 1000 \n",
      "8     pore.molar_density                             1000 / 1000 \n",
      "9     pore.molecular_weight                          1000 / 1000 \n",
      "10    pore.pressure                                  1000 / 1000 \n",
      "11    pore.surface_tension                           1000 / 1000 \n",
      "12    pore.temperature                               1000 / 1000 \n",
      "13    pore.thermal_conductivity                      1000 / 1000 \n",
      "14    pore.vapor_pressure                            1000 / 1000 \n",
      "15    pore.viscosity                                 1000 / 1000 \n",
      "16    throat.electrical_conductivity                 2700 / 2700 \n",
      "17    throat.thermal_conductivity                    2700 / 2700 \n",
      "18    throat.viscosity                               2700 / 2700 \n",
      "――――――――――――――――――――――――――――――――――――――――――――――――――――――――――――――――――――――――――――――\n",
      "#     Labels                                        Assigned Locations\n",
      "――――――――――――――――――――――――――――――――――――――――――――――――――――――――――――――――――――――――――――――\n",
      "1     pore.all                                      1000      \n",
      "2     pore.phys_01                                  1000      \n",
      "3     throat.all                                    2700      \n",
      "4     throat.phys_01                                2700      \n",
      "――――――――――――――――――――――――――――――――――――――――――――――――――――――――――――――――――――――――――――――\n"
     ]
    }
   ],
   "source": [
    "# Generate phase and physics\n",
    "water = op.phases.Water(network=pn)\n",
    "water['pore.viscosity'] =0.001\n",
    "phys = op.physics.Standard(network=pn, phase=water, geometry=geo)\n",
    "\n",
    "# Create algorithm, set boundary conditions and run simulation\n",
    "sf = op.algorithms.StokesFlow(network=pn, phase=water)\n",
    "\n",
    "sf.set_value_BC(pores=pn.pores('left'), values=Pin)\n",
    "sf.set_value_BC(pores=pn.pores('right'), values=Pout)\n",
    "sf.run()\n",
    "print(water)"
   ]
  },
  {
   "cell_type": "code",
   "execution_count": 8,
   "metadata": {},
   "outputs": [
    {
     "name": "stderr",
     "output_type": "stream",
     "text": [
      "------------------------------------------------------------\n",
      "WARNING    : Attempting to estimate inlet area...will be low \n",
      "SOURCE     : openpnm.algorithms.GenericTransport._get_domain_area \n",
      "TIME STAMP : 2021-10-26 11:39:34,189\n",
      "------------------------------------------------------------\n",
      "------------------------------------------------------------\n",
      "WARNING    : Attempting to estimate domain length...could be low if boundary pores were not added \n",
      "SOURCE     : openpnm.algorithms.GenericTransport._get_domain_length \n",
      "TIME STAMP : 2021-10-26 11:39:34,190\n",
      "------------------------------------------------------------\n"
     ]
    },
    {
     "name": "stdout",
     "output_type": "stream",
     "text": [
      "[1.07686716e-13] [1.07686716e-07] 0.0010000000000000005 0.001 1e-06 1000000\n",
      "effective permeability [1.19651907e-13]\n",
      "[1.07686716e-07]\n",
      "10\n",
      "9.999999999999994e-05\n",
      "Porosity (%): 10.5016637626335\n"
     ]
    }
   ],
   "source": [
    "Q = sf.rate(pores=pn.pores('left'))\n",
    "A = Ny*Nz*Lc**2\n",
    "L = Nx*Lc\n",
    "mu = water['pore.viscosity'].mean()\n",
    "K = Q*mu*L/(A*(Pin-Pout))\n",
    "print(K, Q, mu, L, A, Pin-Pout)\n",
    "print(\"effective permeability\",sf.calc_effective_permeability())\n",
    "print(Q)\n",
    "\n",
    "print(pn.shape.max())\n",
    "print(pn.spacing.max()) \n",
    "vol_total = (pn._shape * pn._spacing).prod()\n",
    "vol_pores = geo['pore.volume'].sum()\n",
    "vol_throats = geo['throat.volume'].sum()\n",
    "porosity = (vol_pores + vol_throats) / vol_total * 100\n",
    "print('Porosity (%):', porosity)"
   ]
  },
  {
   "cell_type": "code",
   "execution_count": 4,
   "metadata": {},
   "outputs": [
    {
     "name": "stderr",
     "output_type": "stream",
     "text": [
      "------------------------------------------------------------\n",
      "WARNING    : Inlets have non-zero volume, percolation curve won't start at 0. \n",
      "SOURCE     : openpnm.algorithms.OrdinaryPercolation.get_intrusion_data \n",
      "TIME STAMP : 2021-10-26 11:35:52,317\n",
      "------------------------------------------------------------\n"
     ]
    },
    {
     "data": {
      "image/png": "[encoded data removed]",
      "text/plain": [
       "<Figure size 432x288 with 1 Axes>"
      ]
     },
     "metadata": {
      "needs_background": "light"
     },
     "output_type": "display_data"
    }
   ],
   "source": [
    "mip = op.algorithms.Porosimetry(network=pn, phase=water)\n",
    "mip.set_inlets(pores=pn.pores('left'))\n",
    "mip.run()\n",
    "fig = mip.plot_intrusion_curve()"
   ]
  },
  {
   "cell_type": "code",
   "execution_count": 5,
   "metadata": {},
   "outputs": [
    {
     "name": "stdout",
     "output_type": "stream",
     "text": [
      "mean co-ordination number 5.4\n",
      "minimum co-ordination number 3\n",
      "maximum co-ordination number 6\n"
     ]
    },
    {
     "data": {
      "image/png": "[encoded data removed]",
      "text/plain": [
       "<Figure size 432x288 with 1 Axes>"
      ]
     },
     "metadata": {},
     "output_type": "display_data"
    }
   ],
   "source": [
    "fig = plt.figure()\n",
    "plt.hist(pn.num_neighbors(pn.Ps), edgecolor='k')\n",
    "fig.patch.set_facecolor('white')\n",
    "print(\"mean co-ordination number\",pn.num_neighbors(pn.Ps).mean())\n",
    "print(\"minimum co-ordination number\",pn.num_neighbors(pn.Ps).min())\n",
    "print(\"maximum co-ordination number\",pn.num_neighbors(pn.Ps).max())"
   ]
  },
  {
   "cell_type": "code",
   "execution_count": null,
   "metadata": {},
   "outputs": [],
   "source": []
  },
  {
   "cell_type": "code",
   "execution_count": null,
   "metadata": {},
   "outputs": [],
   "source": []
  },
  {
   "cell_type": "code",
   "execution_count": null,
   "metadata": {},
   "outputs": [],
   "source": []
  }
 ],
 "metadata": {
  "kernelspec": {
   "display_name": "Python 3",
   "language": "python",
   "name": "python3"
  },
  "language_info": {
   "codemirror_mode": {
    "name": "ipython",
    "version": 3
   },
   "file_extension": ".py",
   "mimetype": "text/x-python",
   "name": "python",
   "nbconvert_exporter": "python",
   "pygments_lexer": "ipython3",
   "version": "3.8.5"
  }
 },
 "nbformat": 4,
 "nbformat_minor": 4
}
